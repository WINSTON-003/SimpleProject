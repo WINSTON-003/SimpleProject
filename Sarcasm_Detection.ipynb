{
 "cells": [
  {
   "cell_type": "code",
   "execution_count": 29,
   "id": "29d4a198",
   "metadata": {},
   "outputs": [],
   "source": [
    "import pandas as pd\n",
    "import numpy as np\n",
    "import seaborn as sns\n",
    "import matplotlib.pyplot as plt\n",
    "from sklearn.feature_extraction.text import CountVectorizer\n",
    "from sklearn.model_selection import train_test_split\n",
    "from sklearn.naive_bayes import BernoulliNB"
   ]
  },
  {
   "cell_type": "code",
   "execution_count": 2,
   "id": "7e3c15b0",
   "metadata": {},
   "outputs": [
    {
     "name": "stdout",
     "output_type": "stream",
     "text": [
      "C:\\Users\\WINSTON A\\Documents\n"
     ]
    }
   ],
   "source": [
    "cd C:\\Users\\WINSTON A\\Documents"
   ]
  },
  {
   "cell_type": "code",
   "execution_count": 3,
   "id": "87a2b433",
   "metadata": {},
   "outputs": [
    {
     "data": {
      "text/html": [
       "<div>\n",
       "<style scoped>\n",
       "    .dataframe tbody tr th:only-of-type {\n",
       "        vertical-align: middle;\n",
       "    }\n",
       "\n",
       "    .dataframe tbody tr th {\n",
       "        vertical-align: top;\n",
       "    }\n",
       "\n",
       "    .dataframe thead th {\n",
       "        text-align: right;\n",
       "    }\n",
       "</style>\n",
       "<table border=\"1\" class=\"dataframe\">\n",
       "  <thead>\n",
       "    <tr style=\"text-align: right;\">\n",
       "      <th></th>\n",
       "      <th>article_link</th>\n",
       "      <th>headline</th>\n",
       "      <th>is_sarcastic</th>\n",
       "    </tr>\n",
       "  </thead>\n",
       "  <tbody>\n",
       "    <tr>\n",
       "      <th>0</th>\n",
       "      <td>https://www.huffingtonpost.com/entry/versace-b...</td>\n",
       "      <td>former versace store clerk sues over secret 'b...</td>\n",
       "      <td>0</td>\n",
       "    </tr>\n",
       "    <tr>\n",
       "      <th>1</th>\n",
       "      <td>https://www.huffingtonpost.com/entry/roseanne-...</td>\n",
       "      <td>the 'roseanne' revival catches up to our thorn...</td>\n",
       "      <td>0</td>\n",
       "    </tr>\n",
       "    <tr>\n",
       "      <th>2</th>\n",
       "      <td>https://local.theonion.com/mom-starting-to-fea...</td>\n",
       "      <td>mom starting to fear son's web series closest ...</td>\n",
       "      <td>1</td>\n",
       "    </tr>\n",
       "    <tr>\n",
       "      <th>3</th>\n",
       "      <td>https://politics.theonion.com/boehner-just-wan...</td>\n",
       "      <td>boehner just wants wife to listen, not come up...</td>\n",
       "      <td>1</td>\n",
       "    </tr>\n",
       "    <tr>\n",
       "      <th>4</th>\n",
       "      <td>https://www.huffingtonpost.com/entry/jk-rowlin...</td>\n",
       "      <td>j.k. rowling wishes snape happy birthday in th...</td>\n",
       "      <td>0</td>\n",
       "    </tr>\n",
       "  </tbody>\n",
       "</table>\n",
       "</div>"
      ],
      "text/plain": [
       "                                        article_link  \\\n",
       "0  https://www.huffingtonpost.com/entry/versace-b...   \n",
       "1  https://www.huffingtonpost.com/entry/roseanne-...   \n",
       "2  https://local.theonion.com/mom-starting-to-fea...   \n",
       "3  https://politics.theonion.com/boehner-just-wan...   \n",
       "4  https://www.huffingtonpost.com/entry/jk-rowlin...   \n",
       "\n",
       "                                            headline  is_sarcastic  \n",
       "0  former versace store clerk sues over secret 'b...             0  \n",
       "1  the 'roseanne' revival catches up to our thorn...             0  \n",
       "2  mom starting to fear son's web series closest ...             1  \n",
       "3  boehner just wants wife to listen, not come up...             1  \n",
       "4  j.k. rowling wishes snape happy birthday in th...             0  "
      ]
     },
     "execution_count": 3,
     "metadata": {},
     "output_type": "execute_result"
    }
   ],
   "source": [
    "df = pd.read_json(\"Sarcasm_Headlines_Dataset.json\", lines = True)\n",
    "df.head()"
   ]
  },
  {
   "cell_type": "code",
   "execution_count": 4,
   "id": "a544714d",
   "metadata": {},
   "outputs": [
    {
     "name": "stdout",
     "output_type": "stream",
     "text": [
      "                                        article_link  \\\n",
      "0  https://www.huffingtonpost.com/entry/versace-b...   \n",
      "1  https://www.huffingtonpost.com/entry/roseanne-...   \n",
      "2  https://local.theonion.com/mom-starting-to-fea...   \n",
      "3  https://politics.theonion.com/boehner-just-wan...   \n",
      "4  https://www.huffingtonpost.com/entry/jk-rowlin...   \n",
      "\n",
      "                                            headline is_sarcastic  \n",
      "0  former versace store clerk sues over secret 'b...  Not Sarcasm  \n",
      "1  the 'roseanne' revival catches up to our thorn...  Not Sarcasm  \n",
      "2  mom starting to fear son's web series closest ...      Sarcasm  \n",
      "3  boehner just wants wife to listen, not come up...      Sarcasm  \n",
      "4  j.k. rowling wishes snape happy birthday in th...  Not Sarcasm  \n"
     ]
    }
   ],
   "source": [
    "df[\"is_sarcastic\"] = df[\"is_sarcastic\"].map({0: \"Not Sarcasm\", 1: \"Sarcasm\"})\n",
    "print(df.head())"
   ]
  },
  {
   "cell_type": "code",
   "execution_count": 5,
   "id": "7bc66926",
   "metadata": {},
   "outputs": [
    {
     "data": {
      "text/html": [
       "<div>\n",
       "<style scoped>\n",
       "    .dataframe tbody tr th:only-of-type {\n",
       "        vertical-align: middle;\n",
       "    }\n",
       "\n",
       "    .dataframe tbody tr th {\n",
       "        vertical-align: top;\n",
       "    }\n",
       "\n",
       "    .dataframe thead th {\n",
       "        text-align: right;\n",
       "    }\n",
       "</style>\n",
       "<table border=\"1\" class=\"dataframe\">\n",
       "  <thead>\n",
       "    <tr style=\"text-align: right;\">\n",
       "      <th></th>\n",
       "      <th>article_link</th>\n",
       "      <th>headline</th>\n",
       "      <th>is_sarcastic</th>\n",
       "    </tr>\n",
       "  </thead>\n",
       "  <tbody>\n",
       "    <tr>\n",
       "      <th>0</th>\n",
       "      <td>https://www.huffingtonpost.com/entry/versace-b...</td>\n",
       "      <td>former versace store clerk sues over secret 'b...</td>\n",
       "      <td>Not Sarcasm</td>\n",
       "    </tr>\n",
       "    <tr>\n",
       "      <th>1</th>\n",
       "      <td>https://www.huffingtonpost.com/entry/roseanne-...</td>\n",
       "      <td>the 'roseanne' revival catches up to our thorn...</td>\n",
       "      <td>Not Sarcasm</td>\n",
       "    </tr>\n",
       "    <tr>\n",
       "      <th>2</th>\n",
       "      <td>https://local.theonion.com/mom-starting-to-fea...</td>\n",
       "      <td>mom starting to fear son's web series closest ...</td>\n",
       "      <td>Sarcasm</td>\n",
       "    </tr>\n",
       "    <tr>\n",
       "      <th>3</th>\n",
       "      <td>https://politics.theonion.com/boehner-just-wan...</td>\n",
       "      <td>boehner just wants wife to listen, not come up...</td>\n",
       "      <td>Sarcasm</td>\n",
       "    </tr>\n",
       "    <tr>\n",
       "      <th>4</th>\n",
       "      <td>https://www.huffingtonpost.com/entry/jk-rowlin...</td>\n",
       "      <td>j.k. rowling wishes snape happy birthday in th...</td>\n",
       "      <td>Not Sarcasm</td>\n",
       "    </tr>\n",
       "    <tr>\n",
       "      <th>...</th>\n",
       "      <td>...</td>\n",
       "      <td>...</td>\n",
       "      <td>...</td>\n",
       "    </tr>\n",
       "    <tr>\n",
       "      <th>26704</th>\n",
       "      <td>https://www.huffingtonpost.com/entry/american-...</td>\n",
       "      <td>american politics in moral free-fall</td>\n",
       "      <td>Not Sarcasm</td>\n",
       "    </tr>\n",
       "    <tr>\n",
       "      <th>26705</th>\n",
       "      <td>https://www.huffingtonpost.com/entry/americas-...</td>\n",
       "      <td>america's best 20 hikes</td>\n",
       "      <td>Not Sarcasm</td>\n",
       "    </tr>\n",
       "    <tr>\n",
       "      <th>26706</th>\n",
       "      <td>https://www.huffingtonpost.com/entry/reparatio...</td>\n",
       "      <td>reparations and obama</td>\n",
       "      <td>Not Sarcasm</td>\n",
       "    </tr>\n",
       "    <tr>\n",
       "      <th>26707</th>\n",
       "      <td>https://www.huffingtonpost.com/entry/israeli-b...</td>\n",
       "      <td>israeli ban targeting boycott supporters raise...</td>\n",
       "      <td>Not Sarcasm</td>\n",
       "    </tr>\n",
       "    <tr>\n",
       "      <th>26708</th>\n",
       "      <td>https://www.huffingtonpost.com/entry/gourmet-g...</td>\n",
       "      <td>gourmet gifts for the foodie 2014</td>\n",
       "      <td>Not Sarcasm</td>\n",
       "    </tr>\n",
       "  </tbody>\n",
       "</table>\n",
       "<p>26709 rows × 3 columns</p>\n",
       "</div>"
      ],
      "text/plain": [
       "                                            article_link  \\\n",
       "0      https://www.huffingtonpost.com/entry/versace-b...   \n",
       "1      https://www.huffingtonpost.com/entry/roseanne-...   \n",
       "2      https://local.theonion.com/mom-starting-to-fea...   \n",
       "3      https://politics.theonion.com/boehner-just-wan...   \n",
       "4      https://www.huffingtonpost.com/entry/jk-rowlin...   \n",
       "...                                                  ...   \n",
       "26704  https://www.huffingtonpost.com/entry/american-...   \n",
       "26705  https://www.huffingtonpost.com/entry/americas-...   \n",
       "26706  https://www.huffingtonpost.com/entry/reparatio...   \n",
       "26707  https://www.huffingtonpost.com/entry/israeli-b...   \n",
       "26708  https://www.huffingtonpost.com/entry/gourmet-g...   \n",
       "\n",
       "                                                headline is_sarcastic  \n",
       "0      former versace store clerk sues over secret 'b...  Not Sarcasm  \n",
       "1      the 'roseanne' revival catches up to our thorn...  Not Sarcasm  \n",
       "2      mom starting to fear son's web series closest ...      Sarcasm  \n",
       "3      boehner just wants wife to listen, not come up...      Sarcasm  \n",
       "4      j.k. rowling wishes snape happy birthday in th...  Not Sarcasm  \n",
       "...                                                  ...          ...  \n",
       "26704               american politics in moral free-fall  Not Sarcasm  \n",
       "26705                            america's best 20 hikes  Not Sarcasm  \n",
       "26706                              reparations and obama  Not Sarcasm  \n",
       "26707  israeli ban targeting boycott supporters raise...  Not Sarcasm  \n",
       "26708                  gourmet gifts for the foodie 2014  Not Sarcasm  \n",
       "\n",
       "[26709 rows x 3 columns]"
      ]
     },
     "execution_count": 5,
     "metadata": {},
     "output_type": "execute_result"
    }
   ],
   "source": [
    "df"
   ]
  },
  {
   "cell_type": "markdown",
   "id": "9bca047d",
   "metadata": {},
   "source": [
    "# Exploratory Data Anlaysis"
   ]
  },
  {
   "cell_type": "code",
   "execution_count": 32,
   "id": "b1fd83ed",
   "metadata": {},
   "outputs": [
    {
     "data": {
      "image/png": "[encoded data removed]",
      "text/plain": [
       "<Figure size 500x500 with 1 Axes>"
      ]
     },
     "metadata": {},
     "output_type": "display_data"
    }
   ],
   "source": [
    "#Pie Chart\n",
    "\n",
    "counts = df['is_sarcastic'].value_counts()\n",
    "\n",
    "plt.figure(figsize=(5,5))\n",
    "plt.pie(counts, labels=counts.index, autopct='%1.1f%%', startangle=140)\n",
    "plt.title('Pie Chart of Is Sarcastic')\n",
    "plt.axis('equal')  # Equal aspect ratio ensures that pie is drawn as a circle\n",
    "plt.show()\n"
   ]
  },
  {
   "cell_type": "markdown",
   "id": "63175350",
   "metadata": {},
   "source": [
    "The Vaues are approximately equally distributed"
   ]
  },
  {
   "cell_type": "code",
   "execution_count": 33,
   "id": "339eadb2",
   "metadata": {},
   "outputs": [
    {
     "data": {
      "image/png": "[encoded data removed]",
      "text/plain": [
       "<Figure size 800x400 with 1 Axes>"
      ]
     },
     "metadata": {},
     "output_type": "display_data"
    }
   ],
   "source": [
    "#Count Plot\n",
    "\n",
    "plt.figure(figsize=(8, 4))\n",
    "sns.countplot(data=df, x=df['is_sarcastic'])\n",
    "plt.title('Count Plot of is_sarcastic')\n",
    "plt.xlabel('Categories')\n",
    "plt.ylabel('Count')\n",
    "plt.xticks(rotation=45)  # Rotate x-axis labels for better readability if needed\n",
    "plt.show()"
   ]
  },
  {
   "cell_type": "code",
   "execution_count": null,
   "id": "207765e0",
   "metadata": {},
   "outputs": [],
   "source": []
  },
  {
   "cell_type": "code",
   "execution_count": null,
   "id": "e914ad07",
   "metadata": {},
   "outputs": [],
   "source": []
  },
  {
   "cell_type": "code",
   "execution_count": null,
   "id": "94ed0d9f",
   "metadata": {},
   "outputs": [],
   "source": []
  },
  {
   "cell_type": "code",
   "execution_count": null,
   "id": "c05b1e57",
   "metadata": {},
   "outputs": [],
   "source": []
  },
  {
   "cell_type": "code",
   "execution_count": 6,
   "id": "c6da8a7e",
   "metadata": {},
   "outputs": [
    {
     "name": "stdout",
     "output_type": "stream",
     "text": [
      "[\"former versace store clerk sues over secret 'black code' for minority shoppers\"\n",
      " \"the 'roseanne' revival catches up to our thorny political mood, for better and worse\"\n",
      " \"mom starting to fear son's web series closest thing she will have to grandchild\"\n",
      " ... 'reparations and obama'\n",
      " 'israeli ban targeting boycott supporters raises alarm abroad'\n",
      " 'gourmet gifts for the foodie 2014'] ['Not Sarcasm' 'Not Sarcasm' 'Sarcasm' ... 'Not Sarcasm' 'Not Sarcasm'\n",
      " 'Not Sarcasm']\n"
     ]
    }
   ],
   "source": [
    "data = df[['headline','is_sarcastic']]\n",
    "x = np.array(data['headline'])\n",
    "y = np.array(data['is_sarcastic'])\n",
    "print(x,y)"
   ]
  },
  {
   "cell_type": "code",
   "execution_count": 9,
   "id": "b04da5e1",
   "metadata": {},
   "outputs": [
    {
     "name": "stdout",
     "output_type": "stream",
     "text": [
      "Xtrain :    (0, 13608)\t1\n",
      "  (0, 17472)\t1\n",
      "  (0, 23363)\t1\n",
      "  (0, 1185)\t1\n",
      "  (0, 581)\t1\n",
      "  (0, 24674)\t1\n",
      "  (1, 22827)\t1\n",
      "  (1, 11123)\t1\n",
      "  (1, 25186)\t1\n",
      "  (1, 16491)\t1\n",
      "  (1, 5815)\t1\n",
      "  (1, 13195)\t1\n",
      "  (1, 12866)\t1\n",
      "  (1, 12418)\t1\n",
      "  (1, 14914)\t1\n",
      "  (1, 19774)\t1\n",
      "  (1, 3484)\t1\n",
      "  (2, 23843)\t1\n",
      "  (2, 11123)\t1\n",
      "  (2, 25186)\t1\n",
      "  (2, 24703)\t1\n",
      "  (2, 18681)\t1\n",
      "  (2, 13280)\t1\n",
      "  (2, 7048)\t1\n",
      "  (2, 5267)\t1\n",
      "  :\t:\n",
      "  (21364, 22582)\t1\n",
      "  (21364, 1117)\t1\n",
      "  (21364, 22579)\t1\n",
      "  (21364, 21100)\t1\n",
      "  (21364, 16682)\t1\n",
      "  (21364, 20344)\t1\n",
      "  (21364, 5811)\t1\n",
      "  (21364, 2374)\t1\n",
      "  (21364, 14571)\t1\n",
      "  (21364, 46)\t1\n",
      "  (21364, 2765)\t1\n",
      "  (21365, 8863)\t1\n",
      "  (21365, 3705)\t1\n",
      "  (21365, 15602)\t1\n",
      "  (21365, 2250)\t1\n",
      "  (21365, 13573)\t1\n",
      "  (21365, 22842)\t1\n",
      "  (21365, 10833)\t1\n",
      "  (21365, 737)\t1\n",
      "  (21365, 5088)\t1\n",
      "  (21366, 22582)\t1\n",
      "  (21366, 3378)\t1\n",
      "  (21366, 14040)\t1\n",
      "  (21366, 5709)\t1\n",
      "  (21366, 19100)\t1\n"
     ]
    }
   ],
   "source": [
    "cv = CountVectorizer()\n",
    "X = cv.fit_transform(x)\n",
    "X_train,X_test,y_train,y_test = train_test_split(X,y,test_size = 0.20, random_state = 42)\n",
    "\n",
    "print(\"Xtrain : \",X_train)"
   ]
  },
  {
   "cell_type": "code",
   "execution_count": 10,
   "id": "64f85b21",
   "metadata": {},
   "outputs": [
    {
     "name": "stdout",
     "output_type": "stream",
     "text": [
      "[[0 0 0 ... 0 0 0]\n",
      " [0 0 0 ... 0 0 0]\n",
      " [0 0 0 ... 0 0 0]\n",
      " ...\n",
      " [0 0 0 ... 0 0 0]\n",
      " [0 0 0 ... 0 0 0]\n",
      " [0 0 0 ... 0 0 0]]\n"
     ]
    }
   ],
   "source": [
    "print(X.toarray())  #output shows no common text in samples in a column"
   ]
  },
  {
   "cell_type": "code",
   "execution_count": 14,
   "id": "182fdc18",
   "metadata": {},
   "outputs": [
    {
     "name": "stdout",
     "output_type": "stream",
     "text": [
      "The Accuracy Score is :  0.8448146761512542\n"
     ]
    }
   ],
   "source": [
    "model = BernoulliNB()\n",
    "fitting = model.fit(X_train, y_train)\n",
    "print(\"The Accuracy Score is : \",model.score(X_test, y_test))"
   ]
  },
  {
   "cell_type": "code",
   "execution_count": 37,
   "id": "57d3e286",
   "metadata": {},
   "outputs": [
    {
     "data": {
      "text/plain": [
       "array(['Sarcasm', 'Not Sarcasm', 'Not Sarcasm', ..., 'Sarcasm',\n",
       "       'Not Sarcasm', 'Sarcasm'], dtype='<U11')"
      ]
     },
     "execution_count": 37,
     "metadata": {},
     "output_type": "execute_result"
    }
   ],
   "source": [
    "y_pred = model.predict(X_test)\n",
    "y_pred"
   ]
  },
  {
   "cell_type": "code",
   "execution_count": 16,
   "id": "8642b3bf",
   "metadata": {},
   "outputs": [
    {
     "name": "stdout",
     "output_type": "stream",
     "text": [
      "['Sarcasm' 'Not Sarcasm' 'Not Sarcasm' ... 'Sarcasm' 'Sarcasm' 'Sarcasm']\n"
     ]
    }
   ],
   "source": [
    "print(y_test)  # Here we encounter slight difference between prediction and the Actual ground truth... Because accuracy is 84.5%"
   ]
  },
  {
   "cell_type": "markdown",
   "id": "133e0dbc",
   "metadata": {},
   "source": [
    "**Metrics**"
   ]
  },
  {
   "cell_type": "code",
   "execution_count": 39,
   "id": "ce2b6556",
   "metadata": {},
   "outputs": [],
   "source": [
    "from sklearn.preprocessing import LabelEncoder\n",
    "\n",
    "le = LabelEncoder()\n",
    "y_test_encoded = le.fit_transform(y_test)  \n",
    "y_pred_encoded = le.transform(y_pred) "
   ]
  },
  {
   "cell_type": "code",
   "execution_count": 40,
   "id": "2a147ca7",
   "metadata": {},
   "outputs": [
    {
     "name": "stdout",
     "output_type": "stream",
     "text": [
      "Accuracy: 0.8448146761512542\n",
      "Precision: 0.8596491228070176\n",
      "Recall: 0.7728047740835464\n",
      "F1-score: 0.8139169472502806\n"
     ]
    }
   ],
   "source": [
    "from sklearn.metrics import accuracy_score, precision_score, recall_score, f1_score\n",
    "\n",
    "# Accuracy\n",
    "accuracy = accuracy_score(y_test, y_pred)\n",
    "print(\"Accuracy:\", accuracy)\n",
    "\n",
    "# Precision\n",
    "precision = precision_score(y_test_encoded, y_pred_encoded)\n",
    "print(\"Precision:\", precision)\n",
    "\n",
    "# Recall\n",
    "recall = recall_score(y_test_encoded, y_pred_encoded)\n",
    "print(\"Recall:\", recall)\n",
    "\n",
    "# F1-score\n",
    "f1 = f1_score(y_test_encoded, y_pred_encoded)\n",
    "print(\"F1-score:\", f1)"
   ]
  },
  {
   "cell_type": "code",
   "execution_count": 49,
   "id": "6858daf4",
   "metadata": {},
   "outputs": [
    {
     "data": {
      "image/png": "[encoded data removed]",
      "text/plain": [
       "<Figure size 800x600 with 1 Axes>"
      ]
     },
     "metadata": {},
     "output_type": "display_data"
    }
   ],
   "source": [
    "# Sample data (assuming you have already calculated these metrics)\n",
    "accuracy = 0.8448\n",
    "precision = 0.8596\n",
    "recall = 0.7728\n",
    "f1_score = 0.8139\n",
    "\n",
    "# Create the figure\n",
    "fig, ax = plt.subplots(figsize=(8, 6))\n",
    "\n",
    "# Define bar positions\n",
    "x = [1, 2, 3, 4]  # Positions for each metric\n",
    "\n",
    "# Create the bar plot\n",
    "bars = ax.bar(x, [accuracy, precision, recall, f1_score], color=['skyblue', 'lightgreen', 'goldenrod', 'lightsalmon'])\n",
    "\n",
    "# Set metric labels and positions\n",
    "ax.set_xticks(x)\n",
    "ax.set_xticklabels(['Accuracy', 'Precision', 'Recall', 'F1-Score'], rotation=45, ha='right')\n",
    "\n",
    "# Set axis labels and title\n",
    "ax.set_xlabel('Metric')\n",
    "ax.set_ylabel('Score')\n",
    "ax.set_title('Model Performance Metrics')\n",
    "\n",
    "legend_labels = ['Accuracy', 'Precision', 'Recall', 'F1-Score']\n",
    "plt.legend(bars, legend_labels, loc='upper left')\n",
    "\n",
    "# Adjust layout\n",
    "plt.tight_layout()\n",
    "\n",
    "# Display the plot\n",
    "plt.show()"
   ]
  },
  {
   "cell_type": "code",
   "execution_count": 43,
   "id": "7226d61e",
   "metadata": {},
   "outputs": [
    {
     "name": "stdout",
     "output_type": "stream",
     "text": [
      "Enter the text : astroid hitting earth\n"
     ]
    },
    {
     "data": {
      "text/plain": [
       "array(['Not Sarcasm'], dtype='<U11')"
      ]
     },
     "execution_count": 43,
     "metadata": {},
     "output_type": "execute_result"
    }
   ],
   "source": [
    "text = input(\"Enter the text : \")\n",
    "data_txt = cv.transform([text]).toarray()\n",
    "output = model.predict(data_txt)\n",
    "output"
   ]
  },
  {
   "cell_type": "code",
   "execution_count": null,
   "id": "075e9a46",
   "metadata": {},
   "outputs": [],
   "source": []
  }
 ],
 "metadata": {
  "kernelspec": {
   "display_name": "Python 3 (ipykernel)",
   "language": "python",
   "name": "python3"
  },
  "language_info": {
   "codemirror_mode": {
    "name": "ipython",
    "version": 3
   },
   "file_extension": ".py",
   "mimetype": "text/x-python",
   "name": "python",
   "nbconvert_exporter": "python",
   "pygments_lexer": "ipython3",
   "version": "3.11.4"
  }
 },
 "nbformat": 4,
 "nbformat_minor": 5
}
